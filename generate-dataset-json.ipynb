{
 "cells": [
  {
   "cell_type": "code",
   "execution_count": 19,
   "metadata": {
    "collapsed": true
   },
   "outputs": [],
   "source": [
    "import json\n",
    "import os \n",
    "from fnmatch import fnmatch\n",
    "from shutil import copyfile\n",
    "\n"
   ]
  },
  {
   "cell_type": "code",
   "execution_count": 36,
   "metadata": {
    "collapsed": true
   },
   "outputs": [],
   "source": [
    "def read_labeled_image_list(image_list_file):\n",
    "\n",
    "    root = image_list_file\n",
    "    pattern = \"*.jpg\"\n",
    "    filenames = []\n",
    "    for path, subdirs, files in os.walk(root):\n",
    "        for name in files:\n",
    "            if name.endswith(('.jpg', '.jpeg', '.png')):\n",
    "#             if fnmatch(name, pattern):\n",
    "                filenames.append(path + name)\n",
    "\n",
    "\n",
    "    return filenames"
   ]
  },
  {
   "cell_type": "code",
   "execution_count": 37,
   "metadata": {
    "collapsed": false
   },
   "outputs": [
    {
     "data": {
      "text/plain": [
       "['background', 'skin', 'hair', 'dress', 'glasses', 'jacket', 'skirt']"
      ]
     },
     "execution_count": 37,
     "metadata": {},
     "output_type": "execute_result"
    }
   ],
   "source": [
    "labels = [      \"background\",\n",
    "                \"skin\",\n",
    "                \"hair\",\n",
    "                \"dress\",\n",
    "                \"glasses\",\n",
    "                \"jacket\",\n",
    "                \"skirt\"]\n",
    "labels"
   ]
  },
  {
   "cell_type": "code",
   "execution_count": 38,
   "metadata": {
    "collapsed": false
   },
   "outputs": [
    {
     "data": {
      "text/plain": [
       "['data/images/1.jpg', 'data/images/2.jpg', 'data/images/555.png']"
      ]
     },
     "execution_count": 38,
     "metadata": {},
     "output_type": "execute_result"
    }
   ],
   "source": [
    "imageURLs_path = 'data/images/'\n",
    "imageURLs = read_labeled_image_list(imageURLs_path)\n",
    "imageURLs"
   ]
  },
  {
   "cell_type": "code",
   "execution_count": 34,
   "metadata": {
    "collapsed": false,
    "scrolled": true
   },
   "outputs": [
    {
     "name": "stdout",
     "output_type": "stream",
     "text": [
      "File exists : data/annotations/1.png\n",
      "File exists : data/annotations/2.png\n"
     ]
    }
   ],
   "source": [
    "annotationURLs_path = 'data/annotations/'\n",
    "place_holder = 'placehodler.png'\n",
    "\n",
    "for im_path in imageURLs:\n",
    "    im_name = im_path.split('/')[-1].split('.')[0]\n",
    "    src = place_holder\n",
    "    dst = annotationURLs_path + im_name + '.png'\n",
    "    if not os.path.isfile(dst): \n",
    "        copyfile(src, dst)\n",
    "    else: \n",
    "        print(\"File exists : \" + dst)\n",
    "    \n",
    "\n",
    "# # copyfile( place_holder , annotationURLs_path+place_holder)\n"
   ]
  },
  {
   "cell_type": "code",
   "execution_count": 6,
   "metadata": {
    "collapsed": false
   },
   "outputs": [
    {
     "data": {
      "text/plain": [
       "'{\"imageURLs\": \"data/images/\", \"labels\": [\"background\", \"skin\", \"hair\", \"dress\", \"glasses\", \"jacket\", \"skirt\"], \"annotationURLs\": \"data/annotations/\"}'"
      ]
     },
     "execution_count": 6,
     "metadata": {},
     "output_type": "execute_result"
    }
   ],
   "source": [
    "r = {'labels': labels,\n",
    "     'imageURLs': imageURLs,\n",
    "     'annotationURLs': annotationURLs_path}\n",
    "r = json.dumps(r)\n",
    "r"
   ]
  },
  {
   "cell_type": "code",
   "execution_count": null,
   "metadata": {
    "collapsed": true
   },
   "outputs": [],
   "source": []
  }
 ],
 "metadata": {
  "kernelspec": {
   "display_name": "Python 3",
   "language": "python",
   "name": "python3"
  },
  "language_info": {
   "codemirror_mode": {
    "name": "ipython",
    "version": 3
   },
   "file_extension": ".py",
   "mimetype": "text/x-python",
   "name": "python",
   "nbconvert_exporter": "python",
   "pygments_lexer": "ipython3",
   "version": "3.5.2"
  }
 },
 "nbformat": 4,
 "nbformat_minor": 2
}
