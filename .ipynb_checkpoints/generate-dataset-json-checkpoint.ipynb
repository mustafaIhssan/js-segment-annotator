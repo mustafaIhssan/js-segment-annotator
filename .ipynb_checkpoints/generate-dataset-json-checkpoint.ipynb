{
 "cells": [
  {
   "cell_type": "code",
   "execution_count": 1,
   "metadata": {
    "collapsed": true
   },
   "outputs": [],
   "source": [
    "import json\n",
    "import os \n",
    "from fnmatch import fnmatch\n",
    "from shutil import copyfile\n",
    "\n"
   ]
  },
  {
   "cell_type": "code",
   "execution_count": 2,
   "metadata": {
    "collapsed": false
   },
   "outputs": [
    {
     "data": {
      "text/plain": [
       "['background', 'skin', 'hair', 'dress', 'glasses', 'jacket', 'skirt']"
      ]
     },
     "execution_count": 2,
     "metadata": {},
     "output_type": "execute_result"
    }
   ],
   "source": [
    "labels = [      \"background\",\n",
    "                \"skin\",\n",
    "                \"hair\",\n",
    "                \"dress\",\n",
    "                \"glasses\",\n",
    "                \"jacket\",\n",
    "                \"skirt\"]\n",
    "labels"
   ]
  },
  {
   "cell_type": "code",
   "execution_count": 3,
   "metadata": {
    "collapsed": true
   },
   "outputs": [],
   "source": [
    "def read_labeled_image_list(image_list_file):\n",
    "\n",
    "    root = image_list_file\n",
    "    pattern = \"*.jpg\"\n",
    "    filenames = []\n",
    "    for path, subdirs, files in os.walk(root):\n",
    "        for name in files:\n",
    "            if name.endswith(('.jpg', '.jpeg', '.png')):\n",
    "#             if fnmatch(name, pattern):\n",
    "                filenames.append(path + name)\n",
    "\n",
    "\n",
    "    return filenames"
   ]
  },
  {
   "cell_type": "code",
   "execution_count": 4,
   "metadata": {
    "collapsed": false
   },
   "outputs": [
    {
     "data": {
      "text/plain": [
       "['data/images/1.jpg',\n",
       " 'data/images/2.jpg',\n",
       " 'data/images/3.jpg',\n",
       " 'data/images/ADE_train_00000002.jpg',\n",
       " 'data/images/ADE_train_00000003.jpg',\n",
       " 'data/images/ADE_train_00000004.jpg',\n",
       " 'data/images/ADE_train_00000005.jpg',\n",
       " 'data/images/ADE_train_00000006.jpg',\n",
       " 'data/images/ADE_train_00000007.jpg',\n",
       " 'data/images/ADE_train_00000008.jpg',\n",
       " 'data/images/ADE_train_00000009.jpg',\n",
       " 'data/images/ADE_train_00000010.jpg']"
      ]
     },
     "execution_count": 4,
     "metadata": {},
     "output_type": "execute_result"
    }
   ],
   "source": [
    "imageURLs_path = 'data/images/'\n",
    "imageURLs = read_labeled_image_list(imageURLs_path)\n",
    "imageURLs\n",
    "\n",
    "\n",
    "# place_holder = 'placehodler.png'\n",
    "# imageURLs = []\n",
    "# for im_path in imageURLs:\n",
    "#     im_name = im_path.split('/')[-1].split('.')[0]\n",
    "#     src = place_holder\n",
    "#     dst = annotationURLs_path + im_name + '.png'\n",
    "#     if not os.path.isfile(dst): \n",
    "#         copyfile(src, dst)\n",
    "#     else: \n",
    "#         print(\"File exists : \" + dst)\n",
    "#     annotationURLs.append(dst)\n",
    "    "
   ]
  },
  {
   "cell_type": "code",
   "execution_count": 5,
   "metadata": {
    "collapsed": false,
    "scrolled": true
   },
   "outputs": [
    {
     "name": "stdout",
     "output_type": "stream",
     "text": [
      "File exists : data/annotations/1.png\n",
      "File exists : data/annotations/2.png\n",
      "File exists : data/annotations/3.png\n"
     ]
    }
   ],
   "source": [
    "annotationURLs_path = 'data/annotations/'\n",
    "place_holder = 'placehodler.png'\n",
    "annotationURLs = []\n",
    "for im_path in imageURLs:\n",
    "    im_name = im_path.split('/')[-1].split('.')[0]\n",
    "    src = place_holder\n",
    "    dst = annotationURLs_path + im_name + '.png'\n",
    "#     if not os.path.isfile(dst): \n",
    "#         copyfile(src, dst)\n",
    "#     else: \n",
    "#         print(\"File exists : \" + dst)\n",
    "    annotationURLs.append(dst)\n",
    "    \n",
    "\n"
   ]
  },
  {
   "cell_type": "code",
   "execution_count": 6,
   "metadata": {
    "collapsed": false
   },
   "outputs": [
    {
     "name": "stdout",
     "output_type": "stream",
     "text": [
      "{\"imageURLs\": [\"data/images/1.jpg\", \"data/images/2.jpg\", \"data/images/3.jpg\", \"data/images/ADE_train_00000002.jpg\", \"data/images/ADE_train_00000003.jpg\", \"data/images/ADE_train_00000004.jpg\", \"data/images/ADE_train_00000005.jpg\", \"data/images/ADE_train_00000006.jpg\", \"data/images/ADE_train_00000007.jpg\", \"data/images/ADE_train_00000008.jpg\", \"data/images/ADE_train_00000009.jpg\", \"data/images/ADE_train_00000010.jpg\"], \"labels\": [\"background\", \"skin\", \"hair\", \"dress\", \"glasses\", \"jacket\", \"skirt\"], \"annotationURLs\": [\"data/annotations/1.png\", \"data/annotations/2.png\", \"data/annotations/3.png\", \"data/annotations/ADE_train_00000002.png\", \"data/annotations/ADE_train_00000003.png\", \"data/annotations/ADE_train_00000004.png\", \"data/annotations/ADE_train_00000005.png\", \"data/annotations/ADE_train_00000006.png\", \"data/annotations/ADE_train_00000007.png\", \"data/annotations/ADE_train_00000008.png\", \"data/annotations/ADE_train_00000009.png\", \"data/annotations/ADE_train_00000010.png\"]}\n"
     ]
    }
   ],
   "source": [
    "data = {'labels': labels,\n",
    "     'imageURLs': imageURLs,\n",
    "     'annotationURLs': annotationURLs}\n",
    "\n",
    "with open('data/example.json', 'w') as f:\n",
    "    print(json.dumps(data))\n",
    "    json.dump(data, f, ensure_ascii=False)"
   ]
  },
  {
   "cell_type": "code",
   "execution_count": null,
   "metadata": {
    "collapsed": true
   },
   "outputs": [],
   "source": []
  }
 ],
 "metadata": {
  "kernelspec": {
   "display_name": "Python 3",
   "language": "python",
   "name": "python3"
  },
  "language_info": {
   "codemirror_mode": {
    "name": "ipython",
    "version": 3
   },
   "file_extension": ".py",
   "mimetype": "text/x-python",
   "name": "python",
   "nbconvert_exporter": "python",
   "pygments_lexer": "ipython3",
   "version": "3.5.2"
  }
 },
 "nbformat": 4,
 "nbformat_minor": 2
}
